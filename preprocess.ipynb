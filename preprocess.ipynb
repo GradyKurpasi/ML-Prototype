{
 "metadata": {
  "language_info": {
   "codemirror_mode": {
    "name": "ipython",
    "version": 3
   },
   "file_extension": ".py",
   "mimetype": "text/x-python",
   "name": "python",
   "nbconvert_exporter": "python",
   "pygments_lexer": "ipython3",
   "version": "3.8.3-final"
  },
  "orig_nbformat": 2,
  "kernelspec": {
   "name": "python3",
   "display_name": "Python 3"
  }
 },
 "nbformat": 4,
 "nbformat_minor": 2,
 "cells": [
  {
   "cell_type": "code",
   "execution_count": 1,
   "metadata": {},
   "outputs": [],
   "source": [
    "#this Jupyter notebook is intended to run locally (i.e. not in Azure)\n",
    "#it prepares the raw csv files provided\n",
    "#  master output (account and demographic information)\n",
    "#  payment output (timeseries payment information for accounts)\n",
    "\n",
    "#notebook creates wide, flat output file for training and validating ML model\n",
    "#output will be all account and demographic info with 24 months of payment history (concatenated as columns)\n",
    "\n",
    "#pandas is a python library\n",
    "#  provides series class, 1D object, used here to work w dataframes\n",
    "#  provides dataframe class, 2D object with spreadsheet like functionality\n",
    "import pandas as pd\n",
    "import numpy as np # for np.dateinterval64\n",
    "from math import floor # for month roundings in dateinteraval\n",
    "\n"
   ]
  },
  {
   "cell_type": "code",
   "execution_count": 8,
   "metadata": {},
   "outputs": [
    {
     "output_type": "stream",
     "name": "stdout",
     "text": [
      "done\n"
     ]
    }
   ],
   "source": [
    "#open csv's as Pandas dataframes\n",
    "#master will contain all account and demographic info\n",
    "#payments will contain all payment history\n",
    "master = pd.read_csv('master output.csv')\n",
    "payments = pd.read_csv('payment output.csv')\n",
    "\n",
    "#convert date columns to Pandas datetime datatypes (to assist with sorting)\n",
    "master['dateplaced'] = pd.to_datetime(master['dateplaced'])\n",
    "payments['DatePosted']= pd.to_datetime(payments['DatePosted'])\n",
    "\n",
    "#sort both dataframes\n",
    "master = master.sort_values(by=['customerid', 'accountid'])\n",
    "payments = payments.sort_values(by=['customerid', 'accountid', 'DatePosted'])\n",
    "\n",
    "#DEBUG\n",
    "#payments.dtypes\n",
    "#master.dtypes\n",
    "print('done')\n"
   ]
  },
  {
   "cell_type": "code",
   "execution_count": null,
   "metadata": {},
   "outputs": [],
   "source": [
    "output = pd.DataFrame()\n",
    "record = 0\n",
    "\n",
    "for index, row in master.iterrows():\n",
    "\n",
    "    #get current account data    \n",
    "    account_id = row['accountid']\n",
    "    customer_id = row['customerid']\n",
    "\n",
    "    \n",
    "    #create blank payment history series\n",
    "    pay_hist = pd.Series(dtype=object)\n",
    "    for x in range(25):\n",
    "        pay_hist = pay_hist.append(pd.Series({'Month'+str(x): 0}))\n",
    "\n",
    "    #get payment rows\n",
    "    account_payments = payments.loc[(payments['customerid'] == customer_id) & (payments['accountid']==account_id)]\n",
    "\n",
    "\n",
    "    #if there are payments, fill in pay_hist \n",
    "    #only looking at first 24 months of payments\n",
    "    for pay_index, pay_row in account_payments.iterrows():\n",
    "        #get months between payment and account placement\n",
    "        month = floor( (pay_row['DatePosted']-row['dateplaced']) / np.timedelta64(1, 'M') )\n",
    "        if (month >= 0) and (month <= 24): #only look at first 24 months\n",
    "            pay_hist['Month'+ str(month)] += pay_row['Collected'] #update pay history (will automatically subtract NSF)\n",
    "\n",
    "    #calculate payment total and append to pay_hist\n",
    "    pay_hist = pay_hist.append(pd.Series({'paytotal' : pay_hist.sum()}))\n",
    "\n",
    "    #create output row and add to output data frame\n",
    "    #row.append adds columns to series object row\n",
    "    #output.append adds row to dataframe object output\n",
    "    output = output.append(row.append(pay_hist), ignore_index=True)\n",
    "\n",
    "    #DEBUG\n",
    "    #print(output)\n",
    "    record += 1\n",
    "    print(record)\n",
    "        \n",
    "        "
   ]
  },
  {
   "cell_type": "code",
   "execution_count": null,
   "metadata": {},
   "outputs": [],
   "source": [
    "\n",
    "#write to file and finish\n",
    "output.to_csv('output.csv', index=True)\n",
    "print('DONE')"
   ]
  }
 ]
}