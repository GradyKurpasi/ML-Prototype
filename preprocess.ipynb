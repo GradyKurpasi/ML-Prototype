{
 "metadata": {
  "language_info": {
   "codemirror_mode": {
    "name": "ipython",
    "version": 3
   },
   "file_extension": ".py",
   "mimetype": "text/x-python",
   "name": "python",
   "nbconvert_exporter": "python",
   "pygments_lexer": "ipython3",
   "version": "3.8.3-final"
  },
  "orig_nbformat": 2,
  "kernelspec": {
   "name": "python3",
   "display_name": "Python 3"
  }
 },
 "nbformat": 4,
 "nbformat_minor": 2,
 "cells": [
  {
   "cell_type": "code",
   "execution_count": 3,
   "metadata": {},
   "outputs": [],
   "source": [
    "#this Jupyter notebook is intended to run locally (i.e. not in Azure)\n",
    "#it prepares the raw csv files provided\n",
    "#  master output (account and demographic information)\n",
    "#  payment output (timeseries payment information for accounts)\n",
    "\n",
    "#notebook creates wide, flat output file for training and validating ML model\n",
    "#output will be all account and demographic info with 24 months of payment history (concatenated as columns)\n",
    "\n",
    "#pandas is a python library\n",
    "#  provides series class, 1D object, used here to work w dataframes\n",
    "#  provides dataframe class, 2D object with spreadsheet like functionality\n",
    "import pandas as pd\n",
    "\n"
   ]
  },
  {
   "cell_type": "code",
   "execution_count": 51,
   "metadata": {},
   "outputs": [
    {
     "output_type": "stream",
     "name": "stdout",
     "text": [
      "done\n"
     ]
    }
   ],
   "source": [
    "#open csv's as Pandas dataframes\n",
    "#master will contain all account and demographic info\n",
    "#payments will contain all payment history\n",
    "master = pd.read_csv('master output.csv')\n",
    "payments = pd.read_csv('payment output.csv')\n",
    "\n",
    "#convert date columns to Pandas datetime datatypes (to assist with sorting)\n",
    "master['dateplaced'] = pd.to_datetime(master['dateplaced'])\n",
    "payments['DatePosted']= pd.to_datetime(payments['DatePosted'])\n",
    "\n",
    "#sort both dataframes\n",
    "master.sort_values(by=['customerid', 'accountid'])\n",
    "payments.sort_values(by=['customerid', 'accountid', 'DatePosted'])\n",
    "\n",
    "#DEBUG\n",
    "#payments.dtypes\n",
    "#master.dtypes\n",
    "print('done')\n"
   ]
  },
  {
   "cell_type": "code",
   "execution_count": 52,
   "metadata": {},
   "outputs": [
    {
     "output_type": "execute_result",
     "data": {
      "text/plain": [
       "                                         clientname  accountid  customerid  \\\n",
       "0                          Acadiana Radiology Group      81525      180523   \n",
       "1                          Acadiana Radiology Group      81526      180524   \n",
       "2                          Acadiana Radiology Group      81527      180525   \n",
       "3                          Acadiana Radiology Group      81528      180526   \n",
       "4                          Acadiana Radiology Group      81529      180527   \n",
       "...                                             ...        ...         ...   \n",
       "936809                  Veterinary Emergency Center     153851      251954   \n",
       "936810                  Veterinary Emergency Center     153852      251955   \n",
       "936811                  Veterinary Emergency Center     153853      251956   \n",
       "936812                Veterinary Imaging Centers LP     152855      251187   \n",
       "936813  Veterinary Specialties Hospital at the Lake     156668      254702   \n",
       "\n",
       "        ssnlastfour                  Address1 Address2           City State  \\\n",
       "0            6779.0         17430  PELICAN RD      NaN          Erath    LA   \n",
       "1            1783.0     1832  BUDS PRIVATE DR      NaN      Abbeville    LA   \n",
       "2            8348.0            220  LOVERS LN      NaN      Abbeville    LA   \n",
       "3            1054.0              305 W PUTNAM      NaN          ERATH    LA   \n",
       "4            4199.0          4020  PICKETT RD      NaN          Erath    LA   \n",
       "...             ...                       ...      ...            ...   ...   \n",
       "936809          NaN           341 B Harold St      NaN  Staten Island   NaN   \n",
       "936810          NaN         47 Simonson Place      NaN  Staten Island   NaN   \n",
       "936811          NaN               64 Oak Lane      NaN  Staten Island   NaN   \n",
       "936812          NaN            24 Parktown PL      NaN   Sicklerville    NJ   \n",
       "936813          NaN  Box 408 110 Alexander St      NaN        Spencer    NC   \n",
       "\n",
       "       PostalCode dateplaced  placedbalance  dollarscollected  placeddpd  \\\n",
       "0           70533 2009-07-16         391.00               0.0          0   \n",
       "1           70510 2009-07-16          41.00               0.0          0   \n",
       "2           70510 2009-07-16          41.00               0.0          0   \n",
       "3           70533 2009-07-16         364.00               0.0          0   \n",
       "4           70533 2009-07-16         374.00               0.0          0   \n",
       "...           ...        ...            ...               ...        ...   \n",
       "936809      10314 2009-10-20         122.50               0.0          0   \n",
       "936810      10302 2009-10-20         185.50               0.0          0   \n",
       "936811      10312 2009-10-20        1243.45               0.0          0   \n",
       "936812        NaN 2009-09-29        2065.00               0.0          0   \n",
       "936813      28159 2009-12-28        1537.45               0.0          0   \n",
       "\n",
       "        hasbrokenpromise  hasconfirmed  haskeptptp  haspayments  \\\n",
       "0                      0             0           0            0   \n",
       "1                      0             0           0            0   \n",
       "2                      0             0           0            0   \n",
       "3                      0             0           0            0   \n",
       "4                      0             1           0            0   \n",
       "...                  ...           ...         ...          ...   \n",
       "936809                 0             1           0            0   \n",
       "936810                 0             0           0            0   \n",
       "936811                 0             0           0            0   \n",
       "936812                 0             1           0            0   \n",
       "936813                 0             0           0            0   \n",
       "\n",
       "        hasplacementphone  haspossiblenumber  haspromever  \n",
       "0                       0                  0            0  \n",
       "1                       0                  0            0  \n",
       "2                       0                  0            0  \n",
       "3                       0                  0            0  \n",
       "4                       0                  1            0  \n",
       "...                   ...                ...          ...  \n",
       "936809                  1                  1            0  \n",
       "936810                  1                  0            0  \n",
       "936811                  1                  0            0  \n",
       "936812                  1                  1            0  \n",
       "936813                  1                  1            0  \n",
       "\n",
       "[936814 rows x 20 columns]"
      ],
      "text/html": "<div>\n<style scoped>\n    .dataframe tbody tr th:only-of-type {\n        vertical-align: middle;\n    }\n\n    .dataframe tbody tr th {\n        vertical-align: top;\n    }\n\n    .dataframe thead th {\n        text-align: right;\n    }\n</style>\n<table border=\"1\" class=\"dataframe\">\n  <thead>\n    <tr style=\"text-align: right;\">\n      <th></th>\n      <th>clientname</th>\n      <th>accountid</th>\n      <th>customerid</th>\n      <th>ssnlastfour</th>\n      <th>Address1</th>\n      <th>Address2</th>\n      <th>City</th>\n      <th>State</th>\n      <th>PostalCode</th>\n      <th>dateplaced</th>\n      <th>placedbalance</th>\n      <th>dollarscollected</th>\n      <th>placeddpd</th>\n      <th>hasbrokenpromise</th>\n      <th>hasconfirmed</th>\n      <th>haskeptptp</th>\n      <th>haspayments</th>\n      <th>hasplacementphone</th>\n      <th>haspossiblenumber</th>\n      <th>haspromever</th>\n    </tr>\n  </thead>\n  <tbody>\n    <tr>\n      <th>0</th>\n      <td>Acadiana Radiology Group</td>\n      <td>81525</td>\n      <td>180523</td>\n      <td>6779.0</td>\n      <td>17430  PELICAN RD</td>\n      <td>NaN</td>\n      <td>Erath</td>\n      <td>LA</td>\n      <td>70533</td>\n      <td>2009-07-16</td>\n      <td>391.00</td>\n      <td>0.0</td>\n      <td>0</td>\n      <td>0</td>\n      <td>0</td>\n      <td>0</td>\n      <td>0</td>\n      <td>0</td>\n      <td>0</td>\n      <td>0</td>\n    </tr>\n    <tr>\n      <th>1</th>\n      <td>Acadiana Radiology Group</td>\n      <td>81526</td>\n      <td>180524</td>\n      <td>1783.0</td>\n      <td>1832  BUDS PRIVATE DR</td>\n      <td>NaN</td>\n      <td>Abbeville</td>\n      <td>LA</td>\n      <td>70510</td>\n      <td>2009-07-16</td>\n      <td>41.00</td>\n      <td>0.0</td>\n      <td>0</td>\n      <td>0</td>\n      <td>0</td>\n      <td>0</td>\n      <td>0</td>\n      <td>0</td>\n      <td>0</td>\n      <td>0</td>\n    </tr>\n    <tr>\n      <th>2</th>\n      <td>Acadiana Radiology Group</td>\n      <td>81527</td>\n      <td>180525</td>\n      <td>8348.0</td>\n      <td>220  LOVERS LN</td>\n      <td>NaN</td>\n      <td>Abbeville</td>\n      <td>LA</td>\n      <td>70510</td>\n      <td>2009-07-16</td>\n      <td>41.00</td>\n      <td>0.0</td>\n      <td>0</td>\n      <td>0</td>\n      <td>0</td>\n      <td>0</td>\n      <td>0</td>\n      <td>0</td>\n      <td>0</td>\n      <td>0</td>\n    </tr>\n    <tr>\n      <th>3</th>\n      <td>Acadiana Radiology Group</td>\n      <td>81528</td>\n      <td>180526</td>\n      <td>1054.0</td>\n      <td>305 W PUTNAM</td>\n      <td>NaN</td>\n      <td>ERATH</td>\n      <td>LA</td>\n      <td>70533</td>\n      <td>2009-07-16</td>\n      <td>364.00</td>\n      <td>0.0</td>\n      <td>0</td>\n      <td>0</td>\n      <td>0</td>\n      <td>0</td>\n      <td>0</td>\n      <td>0</td>\n      <td>0</td>\n      <td>0</td>\n    </tr>\n    <tr>\n      <th>4</th>\n      <td>Acadiana Radiology Group</td>\n      <td>81529</td>\n      <td>180527</td>\n      <td>4199.0</td>\n      <td>4020  PICKETT RD</td>\n      <td>NaN</td>\n      <td>Erath</td>\n      <td>LA</td>\n      <td>70533</td>\n      <td>2009-07-16</td>\n      <td>374.00</td>\n      <td>0.0</td>\n      <td>0</td>\n      <td>0</td>\n      <td>1</td>\n      <td>0</td>\n      <td>0</td>\n      <td>0</td>\n      <td>1</td>\n      <td>0</td>\n    </tr>\n    <tr>\n      <th>...</th>\n      <td>...</td>\n      <td>...</td>\n      <td>...</td>\n      <td>...</td>\n      <td>...</td>\n      <td>...</td>\n      <td>...</td>\n      <td>...</td>\n      <td>...</td>\n      <td>...</td>\n      <td>...</td>\n      <td>...</td>\n      <td>...</td>\n      <td>...</td>\n      <td>...</td>\n      <td>...</td>\n      <td>...</td>\n      <td>...</td>\n      <td>...</td>\n      <td>...</td>\n    </tr>\n    <tr>\n      <th>936809</th>\n      <td>Veterinary Emergency Center</td>\n      <td>153851</td>\n      <td>251954</td>\n      <td>NaN</td>\n      <td>341 B Harold St</td>\n      <td>NaN</td>\n      <td>Staten Island</td>\n      <td>NaN</td>\n      <td>10314</td>\n      <td>2009-10-20</td>\n      <td>122.50</td>\n      <td>0.0</td>\n      <td>0</td>\n      <td>0</td>\n      <td>1</td>\n      <td>0</td>\n      <td>0</td>\n      <td>1</td>\n      <td>1</td>\n      <td>0</td>\n    </tr>\n    <tr>\n      <th>936810</th>\n      <td>Veterinary Emergency Center</td>\n      <td>153852</td>\n      <td>251955</td>\n      <td>NaN</td>\n      <td>47 Simonson Place</td>\n      <td>NaN</td>\n      <td>Staten Island</td>\n      <td>NaN</td>\n      <td>10302</td>\n      <td>2009-10-20</td>\n      <td>185.50</td>\n      <td>0.0</td>\n      <td>0</td>\n      <td>0</td>\n      <td>0</td>\n      <td>0</td>\n      <td>0</td>\n      <td>1</td>\n      <td>0</td>\n      <td>0</td>\n    </tr>\n    <tr>\n      <th>936811</th>\n      <td>Veterinary Emergency Center</td>\n      <td>153853</td>\n      <td>251956</td>\n      <td>NaN</td>\n      <td>64 Oak Lane</td>\n      <td>NaN</td>\n      <td>Staten Island</td>\n      <td>NaN</td>\n      <td>10312</td>\n      <td>2009-10-20</td>\n      <td>1243.45</td>\n      <td>0.0</td>\n      <td>0</td>\n      <td>0</td>\n      <td>0</td>\n      <td>0</td>\n      <td>0</td>\n      <td>1</td>\n      <td>0</td>\n      <td>0</td>\n    </tr>\n    <tr>\n      <th>936812</th>\n      <td>Veterinary Imaging Centers LP</td>\n      <td>152855</td>\n      <td>251187</td>\n      <td>NaN</td>\n      <td>24 Parktown PL</td>\n      <td>NaN</td>\n      <td>Sicklerville</td>\n      <td>NJ</td>\n      <td>NaN</td>\n      <td>2009-09-29</td>\n      <td>2065.00</td>\n      <td>0.0</td>\n      <td>0</td>\n      <td>0</td>\n      <td>1</td>\n      <td>0</td>\n      <td>0</td>\n      <td>1</td>\n      <td>1</td>\n      <td>0</td>\n    </tr>\n    <tr>\n      <th>936813</th>\n      <td>Veterinary Specialties Hospital at the Lake</td>\n      <td>156668</td>\n      <td>254702</td>\n      <td>NaN</td>\n      <td>Box 408 110 Alexander St</td>\n      <td>NaN</td>\n      <td>Spencer</td>\n      <td>NC</td>\n      <td>28159</td>\n      <td>2009-12-28</td>\n      <td>1537.45</td>\n      <td>0.0</td>\n      <td>0</td>\n      <td>0</td>\n      <td>0</td>\n      <td>0</td>\n      <td>0</td>\n      <td>1</td>\n      <td>1</td>\n      <td>0</td>\n    </tr>\n  </tbody>\n</table>\n<p>936814 rows × 20 columns</p>\n</div>"
     },
     "metadata": {},
     "execution_count": 52
    }
   ],
   "source": [
    "master"
   ]
  },
  {
   "cell_type": "code",
   "execution_count": 45,
   "metadata": {},
   "outputs": [
    {
     "output_type": "execute_result",
     "data": {
      "text/plain": [
       "        accountid  customerid  Collected  IsNSF  IsPayment  MonthWorked  \\\n",
       "0             120      100119    6650.00      0          1            2   \n",
       "1             120      100119    6650.00      0          1            2   \n",
       "2             120      100119   44700.00      0          1            6   \n",
       "3             132      100131     202.83      0          1           13   \n",
       "4             159      100158   75000.00      0          1            1   \n",
       "...           ...         ...        ...    ...        ...          ...   \n",
       "386973    1141460     1215420      66.79      0          1            3   \n",
       "386974    1141466     1215423    1818.06      0          1            2   \n",
       "386975    1141467     1215423      86.72      0          1            2   \n",
       "386976    1141470     1215426     201.98      0          1            2   \n",
       "386977    1141473     1215429    1079.19      0          1            2   \n",
       "\n",
       "       DatePosted  \n",
       "0      2009-03-05  \n",
       "1      2009-03-25  \n",
       "2      2009-07-16  \n",
       "3      2010-02-09  \n",
       "4      2009-02-10  \n",
       "...           ...  \n",
       "386973 2016-01-15  \n",
       "386974 2015-12-29  \n",
       "386975 2015-12-29  \n",
       "386976 2015-12-14  \n",
       "386977 2015-12-22  \n",
       "\n",
       "[386978 rows x 7 columns]"
      ],
      "text/html": "<div>\n<style scoped>\n    .dataframe tbody tr th:only-of-type {\n        vertical-align: middle;\n    }\n\n    .dataframe tbody tr th {\n        vertical-align: top;\n    }\n\n    .dataframe thead th {\n        text-align: right;\n    }\n</style>\n<table border=\"1\" class=\"dataframe\">\n  <thead>\n    <tr style=\"text-align: right;\">\n      <th></th>\n      <th>accountid</th>\n      <th>customerid</th>\n      <th>Collected</th>\n      <th>IsNSF</th>\n      <th>IsPayment</th>\n      <th>MonthWorked</th>\n      <th>DatePosted</th>\n    </tr>\n  </thead>\n  <tbody>\n    <tr>\n      <th>0</th>\n      <td>120</td>\n      <td>100119</td>\n      <td>6650.00</td>\n      <td>0</td>\n      <td>1</td>\n      <td>2</td>\n      <td>2009-03-05</td>\n    </tr>\n    <tr>\n      <th>1</th>\n      <td>120</td>\n      <td>100119</td>\n      <td>6650.00</td>\n      <td>0</td>\n      <td>1</td>\n      <td>2</td>\n      <td>2009-03-25</td>\n    </tr>\n    <tr>\n      <th>2</th>\n      <td>120</td>\n      <td>100119</td>\n      <td>44700.00</td>\n      <td>0</td>\n      <td>1</td>\n      <td>6</td>\n      <td>2009-07-16</td>\n    </tr>\n    <tr>\n      <th>3</th>\n      <td>132</td>\n      <td>100131</td>\n      <td>202.83</td>\n      <td>0</td>\n      <td>1</td>\n      <td>13</td>\n      <td>2010-02-09</td>\n    </tr>\n    <tr>\n      <th>4</th>\n      <td>159</td>\n      <td>100158</td>\n      <td>75000.00</td>\n      <td>0</td>\n      <td>1</td>\n      <td>1</td>\n      <td>2009-02-10</td>\n    </tr>\n    <tr>\n      <th>...</th>\n      <td>...</td>\n      <td>...</td>\n      <td>...</td>\n      <td>...</td>\n      <td>...</td>\n      <td>...</td>\n      <td>...</td>\n    </tr>\n    <tr>\n      <th>386973</th>\n      <td>1141460</td>\n      <td>1215420</td>\n      <td>66.79</td>\n      <td>0</td>\n      <td>1</td>\n      <td>3</td>\n      <td>2016-01-15</td>\n    </tr>\n    <tr>\n      <th>386974</th>\n      <td>1141466</td>\n      <td>1215423</td>\n      <td>1818.06</td>\n      <td>0</td>\n      <td>1</td>\n      <td>2</td>\n      <td>2015-12-29</td>\n    </tr>\n    <tr>\n      <th>386975</th>\n      <td>1141467</td>\n      <td>1215423</td>\n      <td>86.72</td>\n      <td>0</td>\n      <td>1</td>\n      <td>2</td>\n      <td>2015-12-29</td>\n    </tr>\n    <tr>\n      <th>386976</th>\n      <td>1141470</td>\n      <td>1215426</td>\n      <td>201.98</td>\n      <td>0</td>\n      <td>1</td>\n      <td>2</td>\n      <td>2015-12-14</td>\n    </tr>\n    <tr>\n      <th>386977</th>\n      <td>1141473</td>\n      <td>1215429</td>\n      <td>1079.19</td>\n      <td>0</td>\n      <td>1</td>\n      <td>2</td>\n      <td>2015-12-22</td>\n    </tr>\n  </tbody>\n</table>\n<p>386978 rows × 7 columns</p>\n</div>"
     },
     "metadata": {},
     "execution_count": 45
    }
   ],
   "source": [
    "payments"
   ]
  },
  {
   "cell_type": "code",
   "execution_count": 49,
   "metadata": {
    "tags": []
   },
   "outputs": [
    {
     "output_type": "stream",
     "name": "stdout",
     "text": [
      "81525 120\n",
      "81526 120\n",
      "81527 120\n",
      "81528 120\n",
      "81529 120\n",
      "81530 120\n",
      "81531 120\n",
      "81532 120\n",
      "81533 120\n",
      "81534 120\n",
      "81535 120\n",
      "81536 120\n"
     ]
    },
    {
     "output_type": "execute_result",
     "data": {
      "text/plain": [
       "Empty DataFrame\n",
       "Columns: []\n",
       "Index: []"
      ],
      "text/html": "<div>\n<style scoped>\n    .dataframe tbody tr th:only-of-type {\n        vertical-align: middle;\n    }\n\n    .dataframe tbody tr th {\n        vertical-align: top;\n    }\n\n    .dataframe thead th {\n        text-align: right;\n    }\n</style>\n<table border=\"1\" class=\"dataframe\">\n  <thead>\n    <tr style=\"text-align: right;\">\n      <th></th>\n    </tr>\n  </thead>\n  <tbody>\n  </tbody>\n</table>\n</div>"
     },
     "metadata": {},
     "execution_count": 49
    }
   ],
   "source": [
    "#this code builds the output data (that will be fed to ML algorithm)\n",
    "\n",
    "# create blank output dataframe\n",
    "output = pd.DataFrame()\n",
    "\n",
    "#iterate over all rows in 'master' dataframe\n",
    "#each row is a Pandas series object\n",
    "#each row will be one line from master, index is zero based row num\n",
    "#row has columns reordered in alphabetical order, Captials first\n",
    "for index, row in master.iterrows():\n",
    "    \n",
    "    account_id = row['accountid']\n",
    "    customer_id = row['customerid']\n",
    "    account_year = row['dateplaced'].year\n",
    "    account_month  = row['dateplaced'].month\n",
    "    \n",
    "    for pay_index, pay_row in payments.iterrows():\n",
    "\n",
    "\n",
    "        pay_account_id = pay_row['accountid']\n",
    "        pay_customer_id = pay_row['customerid']\n",
    "        pay_year = pay_row['DatePosted'].year   \n",
    "        pay_month = pay_row['DatePosted'].month\n",
    "\n",
    "        print (account_id, pay_account_id) \n",
    "        break\n",
    "\n",
    "        \n",
    "\n",
    "        #create blank payment history series\n",
    "        for x in range(25):\n",
    "            pay_hist = pay_hist.append(pd.Series({'Month'+str(x): 0}))\n",
    "        \n",
    "\n",
    "\n",
    "        #\n",
    "\n",
    "\n",
    "\n",
    "    #create output row and add to output data frame\n",
    "    #row.append adds columns to series object row\n",
    "    #output.append adds row to dataframe object output\n",
    "    #output = output.append(row.append(pay_hist), ignore_index=True)\n",
    "\n",
    "    #DEBUG exit after 10 iterations\n",
    "    if index > 10 : break\n",
    "\n",
    "\n",
    "output"
   ]
  },
  {
   "cell_type": "code",
   "execution_count": 25,
   "metadata": {},
   "outputs": [
    {
     "output_type": "execute_result",
     "data": {
      "text/plain": [
       "Month1       0\n",
       "Month2       0\n",
       "Month3       0\n",
       "Month4       0\n",
       "Month5       0\n",
       "Month6       0\n",
       "Month7       0\n",
       "Month8       0\n",
       "Month9       0\n",
       "Month10      0\n",
       "Month11      0\n",
       "Month12    140\n",
       "Month13      0\n",
       "Month14      0\n",
       "Month15      0\n",
       "Month16      0\n",
       "Month17      0\n",
       "Month18      0\n",
       "Month19      0\n",
       "Month20      0\n",
       "Month21      0\n",
       "Month22      0\n",
       "Month23      0\n",
       "Month24      0\n",
       "dtype: int64"
      ]
     },
     "metadata": {},
     "execution_count": 25
    }
   ],
   "source": [
    "pay_hist = pd.Series()\n",
    "for x in range(1,25):\n",
    "    #tmp = \n",
    "    pay_hist = pay_hist.append(pd.Series({'Month'+str(x): 0}))\n",
    "\n",
    "y = 12\n",
    "pay_hist['Month' + str(y)] = 140\n",
    "pay_hist\n"
   ]
  },
  {
   "cell_type": "code",
   "execution_count": null,
   "metadata": {},
   "outputs": [],
   "source": []
  }
 ]
}