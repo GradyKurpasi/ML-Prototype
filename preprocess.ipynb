{
 "metadata": {
  "language_info": {
   "codemirror_mode": {
    "name": "ipython",
    "version": 3
   },
   "file_extension": ".py",
   "mimetype": "text/x-python",
   "name": "python",
   "nbconvert_exporter": "python",
   "pygments_lexer": "ipython3",
   "version": "3.8.3-final"
  },
  "orig_nbformat": 2,
  "kernelspec": {
   "name": "python3",
   "display_name": "Python 3"
  }
 },
 "nbformat": 4,
 "nbformat_minor": 2,
 "cells": [
  {
   "cell_type": "code",
   "execution_count": 14,
   "metadata": {},
   "outputs": [],
   "source": [
    "import pandas as pd\n",
    "#import datetime\n"
   ]
  },
  {
   "cell_type": "code",
   "execution_count": 12,
   "metadata": {},
   "outputs": [
    {
     "output_type": "execute_result",
     "data": {
      "text/plain": [
       "           customerid  Collected  IsNSF  IsPayment  MonthWorked DatePosted\n",
       "accountid                                                                 \n",
       "120            100119    6650.00      0          1            2 2009-03-05\n",
       "120            100119    6650.00      0          1            2 2009-03-25\n",
       "120            100119   44700.00      0          1            6 2009-07-16\n",
       "132            100131     202.83      0          1           13 2010-02-09\n",
       "159            100158   75000.00      0          1            1 2009-02-10\n",
       "...               ...        ...    ...        ...          ...        ...\n",
       "1141460       1215420      66.79      0          1            3 2016-01-15\n",
       "1141466       1215423    1818.06      0          1            2 2015-12-29\n",
       "1141467       1215423      86.72      0          1            2 2015-12-29\n",
       "1141470       1215426     201.98      0          1            2 2015-12-14\n",
       "1141473       1215429    1079.19      0          1            2 2015-12-22\n",
       "\n",
       "[386978 rows x 6 columns]"
      ],
      "text/html": "<div>\n<style scoped>\n    .dataframe tbody tr th:only-of-type {\n        vertical-align: middle;\n    }\n\n    .dataframe tbody tr th {\n        vertical-align: top;\n    }\n\n    .dataframe thead th {\n        text-align: right;\n    }\n</style>\n<table border=\"1\" class=\"dataframe\">\n  <thead>\n    <tr style=\"text-align: right;\">\n      <th></th>\n      <th>customerid</th>\n      <th>Collected</th>\n      <th>IsNSF</th>\n      <th>IsPayment</th>\n      <th>MonthWorked</th>\n      <th>DatePosted</th>\n    </tr>\n    <tr>\n      <th>accountid</th>\n      <th></th>\n      <th></th>\n      <th></th>\n      <th></th>\n      <th></th>\n      <th></th>\n    </tr>\n  </thead>\n  <tbody>\n    <tr>\n      <th>120</th>\n      <td>100119</td>\n      <td>6650.00</td>\n      <td>0</td>\n      <td>1</td>\n      <td>2</td>\n      <td>2009-03-05</td>\n    </tr>\n    <tr>\n      <th>120</th>\n      <td>100119</td>\n      <td>6650.00</td>\n      <td>0</td>\n      <td>1</td>\n      <td>2</td>\n      <td>2009-03-25</td>\n    </tr>\n    <tr>\n      <th>120</th>\n      <td>100119</td>\n      <td>44700.00</td>\n      <td>0</td>\n      <td>1</td>\n      <td>6</td>\n      <td>2009-07-16</td>\n    </tr>\n    <tr>\n      <th>132</th>\n      <td>100131</td>\n      <td>202.83</td>\n      <td>0</td>\n      <td>1</td>\n      <td>13</td>\n      <td>2010-02-09</td>\n    </tr>\n    <tr>\n      <th>159</th>\n      <td>100158</td>\n      <td>75000.00</td>\n      <td>0</td>\n      <td>1</td>\n      <td>1</td>\n      <td>2009-02-10</td>\n    </tr>\n    <tr>\n      <th>...</th>\n      <td>...</td>\n      <td>...</td>\n      <td>...</td>\n      <td>...</td>\n      <td>...</td>\n      <td>...</td>\n    </tr>\n    <tr>\n      <th>1141460</th>\n      <td>1215420</td>\n      <td>66.79</td>\n      <td>0</td>\n      <td>1</td>\n      <td>3</td>\n      <td>2016-01-15</td>\n    </tr>\n    <tr>\n      <th>1141466</th>\n      <td>1215423</td>\n      <td>1818.06</td>\n      <td>0</td>\n      <td>1</td>\n      <td>2</td>\n      <td>2015-12-29</td>\n    </tr>\n    <tr>\n      <th>1141467</th>\n      <td>1215423</td>\n      <td>86.72</td>\n      <td>0</td>\n      <td>1</td>\n      <td>2</td>\n      <td>2015-12-29</td>\n    </tr>\n    <tr>\n      <th>1141470</th>\n      <td>1215426</td>\n      <td>201.98</td>\n      <td>0</td>\n      <td>1</td>\n      <td>2</td>\n      <td>2015-12-14</td>\n    </tr>\n    <tr>\n      <th>1141473</th>\n      <td>1215429</td>\n      <td>1079.19</td>\n      <td>0</td>\n      <td>1</td>\n      <td>2</td>\n      <td>2015-12-22</td>\n    </tr>\n  </tbody>\n</table>\n<p>386978 rows × 6 columns</p>\n</div>"
     },
     "metadata": {},
     "execution_count": 12
    }
   ],
   "source": [
    "master = pd.read_csv('master output.csv', index_col=0)\n",
    "payments = pd.read_csv('payment output.csv', index_col=0)\n",
    "payments['DatePosted']= pd.to_datetime(payments['DatePosted'])\n",
    "payments.sort_values(by=['accountid', 'customerid', 'DatePosted'])\n",
    "#payments.dtypes\n"
   ]
  },
  {
   "cell_type": "code",
   "execution_count": null,
   "metadata": {},
   "outputs": [],
   "source": []
  }
 ]
}